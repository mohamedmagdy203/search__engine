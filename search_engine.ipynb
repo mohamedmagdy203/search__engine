{
 "cells": [
  {
   "cell_type": "code",
   "execution_count": null,
   "metadata": {},
   "outputs": [],
   "source": [
    "!pip install datasets==2.16.1\n",
    "!pip install git+https://github.com/openai/whisper.git\n",
    "!pip install torch\n",
    "!pip install transformers==4.31.0\n",
    "!pip install --upgrade gradio"
   ]
  },
  {
   "cell_type": "code",
   "execution_count": null,
   "metadata": {},
   "outputs": [],
   "source": [
    "import whisper\n",
    "from datasets import load_dataset\n",
    "import pandas as pd\n",
    "import re\n",
    "import nltk\n",
    "nltk.download('punkt')\n",
    "nltk.download('stopwords')\n",
    "from nltk.corpus import stopwords\n",
    "from nltk.tokenize import word_tokenize\n",
    "import numpy as np\n",
    "import gc\n",
    "import os\n",
    "import torch\n",
    "from transformers import AutoTokenizer,BertModel"
   ]
  },
  {
   "cell_type": "code",
   "execution_count": null,
   "metadata": {},
   "outputs": [],
   "source": [
    "tokenizer = AutoTokenizer.from_pretrained('bert-base-uncased')\n",
    "\n",
    "model = BertModel.from_pretrained('bert-base-uncased')\n",
    "\n",
    "whisper_model = whisper.load_model('large-v3')\n",
    "\n",
    "dataset_name = \"mlabonne/guanaco-llama2-1k\""
   ]
  },
  {
   "cell_type": "code",
   "execution_count": null,
   "metadata": {},
   "outputs": [],
   "source": [
    "stop_words = set(stopwords.words('english'))\n",
    "def cleaned_text(text):\n",
    "    if not isinstance(text, str):\n",
    "        raise TypeError(\"The input must be a string.\")\n",
    "    text = re.sub(r'[^\\w\\s]', '', text)\n",
    "    text = re.sub(r'\\s+', ' ', text).strip()\n",
    "    words = word_tokenize(text)\n",
    "    return ' '.join(words)"
   ]
  },
  {
   "cell_type": "code",
   "execution_count": null,
   "metadata": {},
   "outputs": [],
   "source": [
    "data=load_dataset(dataset_name)\n",
    "data = [{\"text\": rec[\"text\"],} for rec in data['train']]"
   ]
  },
  {
   "cell_type": "code",
   "execution_count": null,
   "metadata": {},
   "outputs": [],
   "source": [
    "data[113]"
   ]
  },
  {
   "cell_type": "code",
   "execution_count": null,
   "metadata": {},
   "outputs": [],
   "source": [
    "cleaned_data = [{\"text\": cleaned_text(rec[\"text\"])} for rec in data]"
   ]
  },
  {
   "cell_type": "code",
   "execution_count": null,
   "metadata": {},
   "outputs": [],
   "source": [
    "def get_embeddings_batch(texts, batch_size=32):\n",
    "    all_embeddings = []\n",
    "    for i in range(0, len(texts), batch_size):\n",
    "        batch_texts = texts[i:i + batch_size]\n",
    "        inputs = tokenizer(batch_texts, padding=True, truncation=True, return_tensors=\"pt\", max_length=512)\n",
    "        with torch.no_grad():\n",
    "            outputs = model(**inputs)\n",
    "        embeddings = outputs.last_hidden_state.mean(dim=1).numpy().astype(np.float16)\n",
    "        all_embeddings.append(embeddings)\n",
    "        del inputs, outputs\n",
    "        gc.collect()\n",
    "    return np.vstack(all_embeddings)"
   ]
  },
  {
   "cell_type": "code",
   "execution_count": null,
   "metadata": {},
   "outputs": [],
   "source": [
    "data_texts = [rec['text'] for rec in cleaned_data]\n",
    "data_embeddings = get_embeddings_batch(data_texts)"
   ]
  },
  {
   "cell_type": "code",
   "execution_count": null,
   "metadata": {},
   "outputs": [],
   "source": [
    "data_embeddings.shape"
   ]
  },
  {
   "cell_type": "code",
   "execution_count": null,
   "metadata": {},
   "outputs": [],
   "source": [
    "from sklearn.metrics.pairwise import cosine_similarity\n",
    "\n",
    "def transcribe_and_find_similar(audio_file):\n",
    "    result = whisper_model.transcribe(audio_file)\n",
    "    transcription = result['text']\n",
    "    user_text = cleaned_text(transcription)\n",
    "    user_texts = [user_text]\n",
    "    user_embeddings = get_embeddings_batch(user_texts)\n",
    "    similarities = cosine_similarity(user_embeddings, data_embeddings)\n",
    "    most_similar_index = np.argmax(similarities)\n",
    "    most_similar_text = data_texts[most_similar_index]\n",
    "    return most_similar_text\n",
    "\n"
   ]
  },
  {
   "cell_type": "code",
   "execution_count": null,
   "metadata": {},
   "outputs": [],
   "source": [
    "voice = '/kaggle/input/final-test/ml.mp4'\n",
    "most_similar_text = transcribe_and_find_similar(voice)\n",
    "print(f'The most similar text to the input is:\\n{most_similar_text}')\n"
   ]
  }
 ],
 "metadata": {
  "language_info": {
   "name": "python"
  }
 },
 "nbformat": 4,
 "nbformat_minor": 2
}
